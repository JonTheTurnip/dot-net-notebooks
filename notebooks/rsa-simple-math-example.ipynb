{
 "cells": [
  {
   "cell_type": "markdown",
   "source": [
    "# Simple RSA worked example\r\n",
    "\r\n",
    "## Note: actual implementation is very different to the below, but you get the idea\r\n",
    "\r\n",
    "IMPORTANT:\r\n",
    "The math is actually way more involved than I originally thought.  So many more theorems and proofs\r\n",
    "involved if you actually want to understand it properly.\r\n",
    "In addition so many implementation details to consider from a practical performance \r\n",
    "perspective.  Going to ** PARK ** this for now and maybe come back to it later and spend more time \r\n",
    "on the theorems.\r\n",
    "\r\n",
    "See below links for more info....\r\n",
    "\r\n",
    "[Fermat's little theorem](https://en.wikipedia.org/wiki/Fermat%27s_little_theorem)\r\n",
    "\r\n",
    "[Euler's totient function (uppercase Φ, lowercase φ or ϕ)](https://en.wikipedia.org/wiki/Euler%27s_totient_function)\r\n",
    "\r\n",
    "[Euclid's gcd algorithm](https://en.wikipedia.org/wiki/Greatest_common_divisor)\r\n",
    "\r\n",
    "[di-mgt.com](https://www.di-mgt.com.au/rsa_alg.html)\r\n",
    "\r\n",
    "[crypto.stackexchange.com](https://crypto.stackexchange.com/questions/388/what-is-the-relation-between-rsa-fermats-little-theorem)"
   ],
   "metadata": {
    "dotnet_interactive": {
     "language": "csharp"
    }
   }
  },
  {
   "cell_type": "markdown",
   "source": [
    "1. Select primes p and q"
   ],
   "metadata": {}
  },
  {
   "cell_type": "code",
   "execution_count": null,
   "source": [
    "let p = 11\r\n",
    "let q = 3"
   ],
   "outputs": [],
   "metadata": {
    "dotnet_interactive": {
     "language": "fsharp"
    }
   }
  },
  {
   "cell_type": "markdown",
   "source": [
    "2. Calculate n and phi"
   ],
   "metadata": {}
  },
  {
   "cell_type": "code",
   "execution_count": null,
   "source": [
    "let n = p * q\r\n",
    "let phi = (p - 1) * (q - 1)\r\n",
    "\r\n",
    "printfn $\"n = {n}, phi = {phi}\""
   ],
   "outputs": [
    {
     "output_type": "stream",
     "name": "stdout",
     "text": [
      "n = 33, phi = 20\r\n"
     ]
    }
   ],
   "metadata": {
    "dotnet_interactive": {
     "language": "fsharp"
    }
   }
  },
  {
   "cell_type": "markdown",
   "source": [
    "3. Choose e such that gcd(e, phi) = 1  (gcd = greatest common divisor)"
   ],
   "metadata": {}
  },
  {
   "cell_type": "code",
   "execution_count": null,
   "source": [
    "let e = 3\r\n",
    "\r\n",
    "let rec gcd x y =\r\n",
    "  if x = y then x\r\n",
    "  else if x > y then gcd (x - y) y\r\n",
    "  else gcd x (y - x)\r\n",
    "\r\n",
    "gcd e phi = 1\r\n"
   ],
   "outputs": [
    {
     "output_type": "display_data",
     "data": {
      "text/html": [
       "<div class=\"dni-plaintext\">True</div>"
      ]
     },
     "metadata": {}
    }
   ],
   "metadata": {
    "dotnet_interactive": {
     "language": "fsharp"
    }
   }
  },
  {
   "cell_type": "markdown",
   "source": [
    "4. Compute d such that ed ≡ 1 (mod phi)\r\n",
    "   i.e. find d such that phi divides ed-1"
   ],
   "metadata": {}
  },
  {
   "cell_type": "code",
   "execution_count": null,
   "source": [
    "let dCheck e phi d = e * d - 1 = phi\r\n",
    "let d = 7\r\n",
    "d |> dCheck e phi"
   ],
   "outputs": [
    {
     "output_type": "display_data",
     "data": {
      "text/html": [
       "<div class=\"dni-plaintext\">True</div>"
      ]
     },
     "metadata": {}
    }
   ],
   "metadata": {
    "dotnet_interactive": {
     "language": "fsharp"
    }
   }
  },
  {
   "cell_type": "markdown",
   "source": [
    "5. Create public and private keys"
   ],
   "metadata": {}
  },
  {
   "cell_type": "code",
   "execution_count": null,
   "source": [
    "let publicKey = (n, e)\r\n",
    "let privateKey = (n, d)"
   ],
   "outputs": [],
   "metadata": {
    "dotnet_interactive": {
     "language": "fsharp"
    }
   }
  },
  {
   "cell_type": "markdown",
   "source": [
    "6. Encrypt our message e.g '7' using the public key.  Note that the message must be less than n."
   ],
   "metadata": {}
  },
  {
   "cell_type": "code",
   "execution_count": null,
   "source": [
    "let encrypt n e m = (pown m e) % n\r\n",
    "\r\n",
    "let m = 7\r\n",
    "let c = encrypt n e m"
   ],
   "outputs": [],
   "metadata": {
    "dotnet_interactive": {
     "language": "fsharp"
    }
   }
  },
  {
   "cell_type": "markdown",
   "source": [
    "7. Decrypt the message using our private key"
   ],
   "metadata": {}
  },
  {
   "cell_type": "code",
   "execution_count": null,
   "source": [
    "let decrypt n d c = (pown c d) % n\r\n",
    "\r\n",
    "let m' = decrypt n d c\r\n",
    "m'"
   ],
   "outputs": [
    {
     "output_type": "display_data",
     "data": {
      "text/html": [
       "<div class=\"dni-plaintext\">7</div>"
      ]
     },
     "metadata": {}
    }
   ],
   "metadata": {
    "dotnet_interactive": {
     "language": "fsharp"
    }
   }
  },
  {
   "cell_type": "markdown",
   "source": [
    "8. Out of interest, if we calculate the ciphertext c for all the possible values of m (0 to 32), we get the below.\r\n",
    "\r\n",
    "Note that all 33 values of m (0 to 32) map to a unique code c in the same range in a sort of random manner. \r\n",
    "In this case we have nine values of m that map to the same value of c - these are known as unconcealed messages. \r\n",
    "m = 0, 1 and n-1 will always do this for any n, no matter how large. But in practice, these shouldn't be a problem\r\n",
    "when we use large values for n in the order of several hundred bits."
   ],
   "metadata": {}
  },
  {
   "cell_type": "code",
   "execution_count": null,
   "source": [
    "[0..32] |> List.map (fun m -> (m, encrypt n e m))"
   ],
   "outputs": [
    {
     "output_type": "display_data",
     "data": {
      "text/html": [
       "<table><thead><tr><th><i>index</i></th><th>Item1</th><th>Item2</th></tr></thead><tbody><tr><td>0</td><td><div class=\"dni-plaintext\">0</div></td><td><div class=\"dni-plaintext\">0</div></td></tr><tr><td>1</td><td><div class=\"dni-plaintext\">1</div></td><td><div class=\"dni-plaintext\">1</div></td></tr><tr><td>2</td><td><div class=\"dni-plaintext\">2</div></td><td><div class=\"dni-plaintext\">8</div></td></tr><tr><td>3</td><td><div class=\"dni-plaintext\">3</div></td><td><div class=\"dni-plaintext\">27</div></td></tr><tr><td>4</td><td><div class=\"dni-plaintext\">4</div></td><td><div class=\"dni-plaintext\">31</div></td></tr><tr><td>5</td><td><div class=\"dni-plaintext\">5</div></td><td><div class=\"dni-plaintext\">26</div></td></tr><tr><td>6</td><td><div class=\"dni-plaintext\">6</div></td><td><div class=\"dni-plaintext\">18</div></td></tr><tr><td>7</td><td><div class=\"dni-plaintext\">7</div></td><td><div class=\"dni-plaintext\">13</div></td></tr><tr><td>8</td><td><div class=\"dni-plaintext\">8</div></td><td><div class=\"dni-plaintext\">17</div></td></tr><tr><td>9</td><td><div class=\"dni-plaintext\">9</div></td><td><div class=\"dni-plaintext\">3</div></td></tr><tr><td>10</td><td><div class=\"dni-plaintext\">10</div></td><td><div class=\"dni-plaintext\">10</div></td></tr><tr><td>11</td><td><div class=\"dni-plaintext\">11</div></td><td><div class=\"dni-plaintext\">11</div></td></tr><tr><td>12</td><td><div class=\"dni-plaintext\">12</div></td><td><div class=\"dni-plaintext\">12</div></td></tr><tr><td>13</td><td><div class=\"dni-plaintext\">13</div></td><td><div class=\"dni-plaintext\">19</div></td></tr><tr><td>14</td><td><div class=\"dni-plaintext\">14</div></td><td><div class=\"dni-plaintext\">5</div></td></tr><tr><td>15</td><td><div class=\"dni-plaintext\">15</div></td><td><div class=\"dni-plaintext\">9</div></td></tr><tr><td>16</td><td><div class=\"dni-plaintext\">16</div></td><td><div class=\"dni-plaintext\">4</div></td></tr><tr><td>17</td><td><div class=\"dni-plaintext\">17</div></td><td><div class=\"dni-plaintext\">29</div></td></tr><tr><td>18</td><td><div class=\"dni-plaintext\">18</div></td><td><div class=\"dni-plaintext\">24</div></td></tr><tr><td>19</td><td><div class=\"dni-plaintext\">19</div></td><td><div class=\"dni-plaintext\">28</div></td></tr><tr><td colspan=\"3\">(13 more)</td></tr></tbody></table>"
      ]
     },
     "metadata": {}
    }
   ],
   "metadata": {
    "dotnet_interactive": {
     "language": "fsharp"
    }
   }
  }
 ],
 "metadata": {
  "orig_nbformat": 4,
  "language_info": {
   "file_extension": ".cs",
   "mimetype": "text/x-csharp",
   "name": "C#",
   "pygments_lexer": "csharp",
   "version": "9.0"
  },
  "kernelspec": {
   "display_name": ".NET (C#)",
   "language": "C#",
   "name": ".net-csharp"
  }
 },
 "nbformat": 4,
 "nbformat_minor": 2
}