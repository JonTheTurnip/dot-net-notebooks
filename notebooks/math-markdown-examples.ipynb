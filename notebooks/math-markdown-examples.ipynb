{
 "cells": [
  {
   "cell_type": "markdown",
   "source": [
    "# Examples of mathematical markdown *(work in progress)*\r\n",
    "\r\n",
    "Building this notebook out to be a useful reference for future projects\r\n",
    "\r\n",
    "[useful link here](https://csrgxtu.github.io/2015/03/20/Writing-Mathematic-Fomulars-in-Markdown/)\r\n",
    "\r\n",
    "[general markdown guide](https://www.markdownguide.org/basic-syntax/)"
   ],
   "metadata": {}
  },
  {
   "cell_type": "markdown",
   "source": [
    "Note that many formula come out looking rather small by default. It's easy to customise this locally as follows...\r\n",
    "\r\n",
    "[changing fontsize in latex](https://texblog.org/2012/08/29/changing-the-font-size-in-latex/)\r\n",
    "\r\n",
    "$\\Huge\\alpha$\r\n",
    "\r\n",
    "$\\Large\\alpha$\r\n",
    "\r\n",
    "$\\normalsize\\alpha$\r\n",
    "\r\n",
    "$\\small\\alpha$\r\n",
    "\r\n",
    "$\\tiny\\alpha$"
   ],
   "metadata": {}
  },
  {
   "cell_type": "markdown",
   "source": [
    "## Greek Letters"
   ],
   "metadata": {}
  },
  {
   "cell_type": "markdown",
   "source": [
    "$\\alpha$\r\n",
    "$A$\r\n",
    "$\\beta$\r\n",
    "$B$\r\n",
    "$\\gamma$\r\n",
    "$\\Gamma$\r\n",
    "$\\pi$\r\n",
    "$\\Pi$\r\n",
    "$\\phi$\r\n",
    "$\\Phi$\r\n",
    "$\\varphi$\r\n",
    "$\\theta$"
   ],
   "metadata": {}
  },
  {
   "cell_type": "markdown",
   "source": [
    "## Operators"
   ],
   "metadata": {}
  },
  {
   "cell_type": "markdown",
   "source": [
    "$\\cos$\r\n",
    "$\\sin$\r\n",
    "$\\lim$\r\n",
    "$\\exp$\r\n",
    "$\\to$\r\n",
    "$\\infty$\r\n",
    "$\\equiv$\r\n",
    "$\\bmod$\r\n",
    "$\\times$\r\n"
   ],
   "metadata": {}
  },
  {
   "cell_type": "markdown",
   "source": [
    "## Power and Indices"
   ],
   "metadata": {}
  },
  {
   "cell_type": "markdown",
   "source": [
    "$k_{n+1}$\r\n",
    "$n^2$\r\n",
    "$k_n^2$"
   ],
   "metadata": {}
  },
  {
   "cell_type": "markdown",
   "source": [
    "## Fractions and Biniomials"
   ],
   "metadata": {}
  },
  {
   "cell_type": "markdown",
   "source": [
    "$\\Large\\frac{n!}{k!(n-k)!}$\r\n",
    "\r\n",
    "$\\Large\\binom{n}{k}$\r\n",
    "\r\n",
    "$\\Large\\frac{\\frac{x}{1}}{x - y}$\r\n",
    "\r\n",
    "$^3/_7$"
   ],
   "metadata": {}
  },
  {
   "cell_type": "markdown",
   "source": [
    "## Roots"
   ],
   "metadata": {}
  },
  {
   "cell_type": "markdown",
   "source": [
    "$\\Large\\sqrt{k}$\r\n",
    "\r\n",
    "$\\Large\\sqrt[n]{k}$\r\n"
   ],
   "metadata": {}
  },
  {
   "cell_type": "markdown",
   "source": [],
   "metadata": {}
  },
  {
   "cell_type": "markdown",
   "source": [],
   "metadata": {}
  }
 ],
 "metadata": {
  "orig_nbformat": 4,
  "language_info": {
   "name": "python"
  }
 },
 "nbformat": 4,
 "nbformat_minor": 2
}