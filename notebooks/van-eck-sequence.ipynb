{
  "cells": [
    {
      "cell_type": "markdown",
      "metadata": {},
      "source": [
        "# The wonderful Van Eck sequence\n",
        "\n",
        "Van Eck's sequence: For n >= 1, if there exists an m < n such that a(m) = a(n), \n",
        "take the largest such m and set a(n+1) = n-m; otherwise a(n+1) = 0. Start with a(1)=0.\n",
        "\n",
        "0, 0, 1, 0, 2, 0, 2, 2, 1, 6, 0, 5, 0, 2, 6, 5, 4, 0, 5, 3, 0, 3, 2, 9, 0, 4, 9, 3, 6, 14, 0, 6, 3,"
      ]
    },
    {
      "cell_type": "markdown",
      "metadata": {},
      "source": [
        "## A solution using F#"
      ]
    },
    {
      "cell_type": "code",
      "execution_count": 1,
      "metadata": {
        "dotnet_interactive": {
          "language": "fsharp"
        }
      },
      "source": [
        "open System.Collections.Generic\n",
        "open System.Linq\n",
        "\n",
        "let van = seq {\n",
        "\n",
        "    let mutable seq = Dictionary<int, int>()\n",
        "    seq.[1] <- 0 // set first value to be zero\n",
        "    yield seq.[1]\n",
        "\n",
        "    let mutable n = 1\n",
        "\n",
        "    while true do\n",
        "        let an = seq.[n]\n",
        "\n",
        "        let am =\n",
        "            seq\n",
        "                .SkipLast(1)\n",
        "                .LastOrDefault(fun o -> o.Value = an)\n",
        "\n",
        "        seq.[n + 1] <-\n",
        "            match am.Key with\n",
        "            | 0 -> 0\n",
        "            | _ -> n - am.Key\n",
        "\n",
        "        yield seq.[n + 1]\n",
        "        n <- n + 1\n",
        "} \n",
        "\n",
        "van.Take(10).Display()"
      ],
      "outputs": []
    },
    {
      "cell_type": "code",
      "execution_count": 1,
      "metadata": {
        "dotnet_interactive": {
          "language": "fsharp"
        }
      },
      "source": [
        "#r \"nuget: Plotly.NET, 2.0.0-preview.2\"\n",
        "#r \"nuget: Plotly.NET.Interactive, 2.0.0-preview.2\"\n",
        "\n",
        "open Plotly.NET\n",
        "\n",
        "let n = 100\n",
        "let x = [|1..n|]\n",
        "let y = van |> Seq.take n |> Seq.toArray\n",
        "Chart.Point(x, y)"
      ],
      "outputs": []
    },
    {
      "cell_type": "markdown",
      "metadata": {},
      "source": [
        "## A solution with C#"
      ]
    },
    {
      "cell_type": "code",
      "execution_count": 1,
      "metadata": {
        "dotnet_interactive": {
          "language": "csharp"
        }
      },
      "source": [
        "IEnumerable<int> VanEck()\n",
        "{\n",
        "\tvar seq = new Dictionary<int, int>();\n",
        "\tseq[1] = 0;  // set first value to be zero\n",
        "\tyield return seq[1];\n",
        "\n",
        "\tint n = 1;\n",
        "\twhile(true)\n",
        "\t{\n",
        "\t\tvar an = seq[n];\n",
        "\t\tvar am = seq.SkipLast(1).LastOrDefault(o => o.Value == an);\n",
        "\t\tseq[n + 1] = am.Key == 0 ? 0 : n - am.Key;\n",
        "\t\tyield return seq[n + 1];\n",
        "\t\tn++;\n",
        "\t}\n",
        "}\n",
        "\n",
        "VanEck().Take(10).Display();"
      ],
      "outputs": []
    },
    {
      "cell_type": "code",
      "execution_count": 1,
      "metadata": {
        "dotnet_interactive": {
          "language": "csharp"
        }
      },
      "source": [
        "#r \"nuget: Plotly.NET, 2.0.0-preview.2\"\n",
        "#r \"nuget: Plotly.NET.Interactive, 2.0.0-preview.2\"\n",
        "\n",
        "\n",
        "using Plotly.NET;\n",
        "\n",
        "var n = 10000;\n",
        "var x = Enumerable.Range(1, n).ToArray();\n",
        "var y = VanEck().Take(n).ToArray();\n",
        "\n",
        "Axis.LinearAxis xAxis = new Axis.LinearAxis();\n",
        "Axis.LinearAxis yAxis = new Axis.LinearAxis();\n",
        "Layout layout = new Layout();\n",
        "Trace trace = new Trace(\"scatter\");\n",
        "trace.SetValue(\"x\", x);\n",
        "trace.SetValue(\"y\", y);\n",
        "trace.SetValue(\"mode\", \"markers\");\n",
        "trace.SetValue(\"name\", \"Hello from C#\");\n",
        "\n",
        "GenericChart.ofTraceObject(trace).WithLayout(layout)"
      ],
      "outputs": []
    }
  ],
  "metadata": {
    "kernelspec": {
      "display_name": ".NET (C#)",
      "language": "C#",
      "name": ".net-csharp"
    },
    "language_info": {
      "file_extension": ".cs",
      "mimetype": "text/x-csharp",
      "name": "C#",
      "pygments_lexer": "csharp",
      "version": "8.0"
    }
  },
  "nbformat": 4,
  "nbformat_minor": 4
}