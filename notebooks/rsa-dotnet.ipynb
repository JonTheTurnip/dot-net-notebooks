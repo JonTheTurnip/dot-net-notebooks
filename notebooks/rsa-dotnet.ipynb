{
 "cells": [
  {
   "cell_type": "markdown",
   "source": [
    "# RSA Encrytion and Decryption Example\r\n",
    "\r\n",
    "## The RSA algorithm is used for asymmetric key encryption.  It generates a public-private key pair and uses them for exchanging data\r\n",
    "\r\n",
    "This is different from the Diffie Hellman algorithm which generates a shared non public key that can then be used by both parties for subsequent data exchange using symmetric key encryption. \r\n",
    "\r\n",
    "Let's say that Bob wants to send a message to Alice that no one else can read.  How can we achieve this?\r\n",
    "\r\n",
    "One way is to use the RSA **asymmetric** encryption method.  This method requires two keys, one that is private and one that is public.  In our example Alice will share the public key and Bob will use this key to encrypt the message that he wants to send to Alice.  Once the message has been encrypted the only way to decrypt it is to use the private key that only Alice has.\r\n",
    "\r\n",
    "Note that in practice RSA is expensive to compute and therefore is mainly used to establish a session key which can then be used for less expensive symmetric encrytion /decryption of messages within the session.\r\n",
    "\r\n",
    "The code below conceals all the interesting indepth math behind and just gets the job done.  \r\n",
    "\r\n",
    "For more info on the .net api see [this link](https://docs.microsoft.com/en-us/dotnet/standard/security/cryptography-model)"
   ],
   "metadata": {
    "dotnet_interactive": {
     "language": "fsharp"
    }
   }
  },
  {
   "cell_type": "markdown",
   "source": [
    "1. Alice creates a new instance of RSACryptoServiceProvider to generate public and private key data."
   ],
   "metadata": {}
  },
  {
   "cell_type": "code",
   "execution_count": null,
   "source": [
    "open System.Security.Cryptography\r\n",
    "open System.Text\r\n",
    "\r\n",
    "let aliceRsa = new RSACryptoServiceProvider() // Note for fsi don't use 'use'\r\n",
    "let aliceRsaParams = aliceRsa.ExportParameters(false) // false means don't include private key in export"
   ],
   "outputs": [],
   "metadata": {
    "dotnet_interactive": {
     "language": "fsharp"
    }
   }
  },
  {
   "cell_type": "markdown",
   "source": [
    "2. Bob uses Alice's public key to encrypt his message. The public key as well as some other variables are all contained in the RSA export params object.  The important thing is that the private key is not included. "
   ],
   "metadata": {}
  },
  {
   "cell_type": "code",
   "execution_count": null,
   "source": [
    "let byteConverter = UnicodeEncoding()\r\n",
    "let message = byteConverter.GetBytes(\"hi\")\r\n",
    "\r\n",
    "let bobRsa = new RSACryptoServiceProvider()\r\n",
    "bobRsa.ImportParameters(aliceRsaParams)\r\n",
    "let encryptedMessage = bobRsa.Encrypt(message, false)"
   ],
   "outputs": [],
   "metadata": {
    "dotnet_interactive": {
     "language": "fsharp"
    }
   }
  },
  {
   "cell_type": "markdown",
   "source": [
    "3. Alice can now decrypt Bob's message"
   ],
   "metadata": {}
  },
  {
   "cell_type": "code",
   "execution_count": null,
   "source": [
    "let decryptedMessage = aliceRsa.Decrypt(encryptedMessage, false)\r\n",
    "byteConverter.GetString(decryptedMessage)"
   ],
   "outputs": [
    {
     "output_type": "display_data",
     "data": {
      "text/plain": [
       "hi"
      ]
     },
     "metadata": {}
    }
   ],
   "metadata": {
    "dotnet_interactive": {
     "language": "fsharp"
    }
   }
  }
 ],
 "metadata": {
  "orig_nbformat": 4,
  "language_info": {
   "file_extension": ".cs",
   "mimetype": "text/x-csharp",
   "name": "C#",
   "pygments_lexer": "csharp",
   "version": "9.0"
  },
  "kernelspec": {
   "display_name": ".NET (C#)",
   "language": "C#",
   "name": ".net-csharp"
  }
 },
 "nbformat": 4,
 "nbformat_minor": 2
}