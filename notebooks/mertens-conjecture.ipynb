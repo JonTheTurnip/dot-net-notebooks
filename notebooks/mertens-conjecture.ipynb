{
 "cells": [
  {
   "cell_type": "markdown",
   "source": [
    "# Merten's Conjecture (disproven!)\r\n",
    "\r\n",
    "Mertens conjecture is the statement that the Mertens function M(n) is bounded by +/- sqrt(n). \r\n",
    "\r\n",
    "Although now disproven, it has been shown to imply the Riemann hypothesis. It was conjectured by Thomas Joannes Stieltjes, in an 1885 letter to Charles Hermite (reprinted in Stieltjes (1905)), and again in print by Franz Mertens (1897), and disproved by Andrew Odlyzko and Herman te Riele (1985). It is a striking example of a mathematical conjecture proven false despite a large amount of computational evidence in its favor\r\n",
    "In this workbook we'll just plot the function up to some relatively small value to illustrate why the conjecture looked so plausible.  It's worth digging a bit deeper on this as it links to the as yet unproven Riemans Hypothesis\r\n",
    "\r\n",
    "[Mobius Function](https://en.wikipedia.org/wiki/M%C3%B6bius_function)\r\n",
    "\r\n",
    "[Merten's Conjecture](https://en.wikipedia.org/wiki/Mertens_conjecture)\r\n",
    "\r\n",
    "[Merten'Function](https://en.wikipedia.org/wiki/Mertens_function)\r\n",
    "\r\n",
    "[Brilliant video on numberphile](https://www.youtube.com/watch?v=uvMGZb0Suyc)"
   ],
   "metadata": {
    "dotnet_interactive": {
     "language": "csharp"
    }
   }
  },
  {
   "cell_type": "markdown",
   "source": [
    "## 1. Mobius Function\r\n",
    "\r\n",
    "For any positive integer n, define μ(n) as the sum of the primitive nth roots of unity. It has values in {−1, 0, 1} depending on the factorization of n into prime factors:\r\n",
    "\r\n",
    "μ(n) = 1 if n is a square-free positive integer with an even number of prime factors.\r\n",
    "\r\n",
    "μ(n) = −1 if n is a square-free positive integer with an odd number of prime factors.\r\n",
    "\r\n",
    "μ(n) = 0 if n has a squared prime factor."
   ],
   "metadata": {
    "dotnet_interactive": {
     "language": "fsharp"
    }
   }
  },
  {
   "cell_type": "code",
   "execution_count": null,
   "source": [
    "// TODO: some code here for the mobius function"
   ],
   "outputs": [],
   "metadata": {
    "dotnet_interactive": {
     "language": "fsharp"
    }
   }
  },
  {
   "cell_type": "markdown",
   "source": [
    "## 2. Merten's Function \r\n",
    "\r\n",
    "Merten's function is defined for all positive integers n as\r\n",
    "\r\n",
    "M(n) = $\\sum_{k = 1}^{n} \\mu(x)$\r\n",
    "\r\n",
    "where μ(k) is the Möbius function.\r\n",
    "\r\n",
    "Less formally, M(x) is the count of square-free integers up to x that have an even number of prime factors, minus the count of those that have an odd number"
   ],
   "metadata": {
    "dotnet_interactive": {
     "language": "csharp"
    }
   }
  },
  {
   "cell_type": "code",
   "execution_count": null,
   "source": [
    "// TODO: some code here for Merten's function (essentially a running total of mobius func)"
   ],
   "outputs": [],
   "metadata": {
    "dotnet_interactive": {
     "language": "fsharp"
    }
   }
  },
  {
   "cell_type": "markdown",
   "source": [
    "## 3. Plot the Merten function and the conjecture"
   ],
   "metadata": {}
  },
  {
   "cell_type": "code",
   "execution_count": null,
   "source": [
    "// TODO: some code here for plotting 1..10,000\r\n",
    "\r\n",
    "//1. +/- sqrt(n)\r\n",
    "//2. Mertens func\r\n",
    "\r\n"
   ],
   "outputs": [],
   "metadata": {
    "dotnet_interactive": {
     "language": "fsharp"
    }
   }
  }
 ],
 "metadata": {
  "orig_nbformat": 4,
  "language_info": {
   "file_extension": ".cs",
   "mimetype": "text/x-csharp",
   "name": "C#",
   "pygments_lexer": "csharp",
   "version": "9.0"
  },
  "kernelspec": {
   "display_name": ".NET (C#)",
   "language": "C#",
   "name": ".net-csharp"
  }
 },
 "nbformat": 4,
 "nbformat_minor": 2
}